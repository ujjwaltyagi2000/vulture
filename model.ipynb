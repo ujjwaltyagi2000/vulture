{
 "cells": [
  {
   "cell_type": "code",
   "execution_count": null,
   "metadata": {},
   "outputs": [],
   "source": []
  }
 ],
 "metadata": {
  "kernelspec": {
   "display_name": "Python 3.10.4 ('vulture-env')",
   "language": "python",
   "name": "python3"
  },
  "language_info": {
   "name": "python",
   "version": "3.10.4"
  },
  "orig_nbformat": 4,
  "vscode": {
   "interpreter": {
    "hash": "f3da833c0c3ec4bd0a94d8eaa39b4479559bd36eb53fe78626ce3b4bdf6ac88b"
   }
  }
 },
 "nbformat": 4,
 "nbformat_minor": 2
}
