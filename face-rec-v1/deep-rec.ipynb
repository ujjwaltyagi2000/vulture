{
 "cells": [
  {
   "cell_type": "code",
   "execution_count": 1,
   "metadata": {},
   "outputs": [],
   "source": [
    "from deepface import DeepFace\n",
    "import matplotlib.pyplot as plt\n",
    "import cv2"
   ]
  },
  {
   "cell_type": "code",
   "execution_count": 11,
   "metadata": {},
   "outputs": [],
   "source": [
    "\n",
    "# FACE VERIFICATION:\n",
    "img_1_path = r\"face-rec-v1\\testing-dataset\\group.jpeg\"\n",
    "img_2_path = r\"face-rec-v1\\testing-dataset\\ujjwal.jpeg\"\n",
    "\n",
    "model_name = 'VGG-Face' #Models: Facenet, VGG-Face, ArcFace"
   ]
  },
  {
   "cell_type": "code",
   "execution_count": 12,
   "metadata": {},
   "outputs": [
    {
     "ename": "ValueError",
     "evalue": "('Confirm that ', 'face-rec-v1\\\\testing-dataset\\\\nishtha.jpeg', ' exists')",
     "output_type": "error",
     "traceback": [
      "\u001b[1;31m---------------------------------------------------------------------------\u001b[0m",
      "\u001b[1;31mValueError\u001b[0m                                Traceback (most recent call last)",
      "\u001b[1;32md:\\Projects\\Python\\vulture\\face-rec-v1\\deep-rec.ipynb Cell 3\u001b[0m in \u001b[0;36m<cell line: 1>\u001b[1;34m()\u001b[0m\n\u001b[1;32m----> <a href='vscode-notebook-cell:/d%3A/Projects/Python/vulture/face-rec-v1/deep-rec.ipynb#W2sZmlsZQ%3D%3D?line=0'>1</a>\u001b[0m response \u001b[39m=\u001b[39m DeepFace\u001b[39m.\u001b[39;49mverify(img1_path\u001b[39m=\u001b[39;49mimg_1_path, img2_path\u001b[39m=\u001b[39;49mimg_2_path, model_name\u001b[39m=\u001b[39;49mmodel_name)\n\u001b[0;32m      <a href='vscode-notebook-cell:/d%3A/Projects/Python/vulture/face-rec-v1/deep-rec.ipynb#W2sZmlsZQ%3D%3D?line=1'>2</a>\u001b[0m \u001b[39mprint\u001b[39m(response)\n",
      "File \u001b[1;32mc:\\Users\\ujjwa\\miniconda3\\envs\\vulture-env\\lib\\site-packages\\deepface\\DeepFace.py:163\u001b[0m, in \u001b[0;36mverify\u001b[1;34m(img1_path, img2_path, model_name, distance_metric, model, enforce_detection, detector_backend, align, prog_bar, normalization)\u001b[0m\n\u001b[0;32m    160\u001b[0m custom_model \u001b[39m=\u001b[39m models[i]\n\u001b[0;32m    162\u001b[0m \u001b[39m#img_path, model_name = 'VGG-Face', model = None, enforce_detection = True, detector_backend = 'mtcnn'\u001b[39;00m\n\u001b[1;32m--> 163\u001b[0m img1_representation \u001b[39m=\u001b[39m represent(img_path \u001b[39m=\u001b[39;49m img1_path\n\u001b[0;32m    164\u001b[0m \t\t, model_name \u001b[39m=\u001b[39;49m model_name, model \u001b[39m=\u001b[39;49m custom_model\n\u001b[0;32m    165\u001b[0m \t\t, enforce_detection \u001b[39m=\u001b[39;49m enforce_detection, detector_backend \u001b[39m=\u001b[39;49m detector_backend\n\u001b[0;32m    166\u001b[0m \t\t, align \u001b[39m=\u001b[39;49m align\n\u001b[0;32m    167\u001b[0m \t\t, normalization \u001b[39m=\u001b[39;49m normalization\n\u001b[0;32m    168\u001b[0m \t\t)\n\u001b[0;32m    170\u001b[0m img2_representation \u001b[39m=\u001b[39m represent(img_path \u001b[39m=\u001b[39m img2_path\n\u001b[0;32m    171\u001b[0m \t\t, model_name \u001b[39m=\u001b[39m model_name, model \u001b[39m=\u001b[39m custom_model\n\u001b[0;32m    172\u001b[0m \t\t, enforce_detection \u001b[39m=\u001b[39m enforce_detection, detector_backend \u001b[39m=\u001b[39m detector_backend\n\u001b[0;32m    173\u001b[0m \t\t, align \u001b[39m=\u001b[39m align\n\u001b[0;32m    174\u001b[0m \t\t, normalization \u001b[39m=\u001b[39m normalization\n\u001b[0;32m    175\u001b[0m \t\t)\n\u001b[0;32m    177\u001b[0m \u001b[39m#----------------------\u001b[39;00m\n\u001b[0;32m    178\u001b[0m \u001b[39m#find distances between embeddings\u001b[39;00m\n",
      "File \u001b[1;32mc:\\Users\\ujjwa\\miniconda3\\envs\\vulture-env\\lib\\site-packages\\deepface\\DeepFace.py:754\u001b[0m, in \u001b[0;36mrepresent\u001b[1;34m(img_path, model_name, model, enforce_detection, detector_backend, align, normalization)\u001b[0m\n\u001b[0;32m    751\u001b[0m input_shape_x, input_shape_y \u001b[39m=\u001b[39m functions\u001b[39m.\u001b[39mfind_input_shape(model)\n\u001b[0;32m    753\u001b[0m \u001b[39m#detect and align\u001b[39;00m\n\u001b[1;32m--> 754\u001b[0m img \u001b[39m=\u001b[39m functions\u001b[39m.\u001b[39;49mpreprocess_face(img \u001b[39m=\u001b[39;49m img_path\n\u001b[0;32m    755\u001b[0m \t, target_size\u001b[39m=\u001b[39;49m(input_shape_y, input_shape_x)\n\u001b[0;32m    756\u001b[0m \t, enforce_detection \u001b[39m=\u001b[39;49m enforce_detection\n\u001b[0;32m    757\u001b[0m \t, detector_backend \u001b[39m=\u001b[39;49m detector_backend\n\u001b[0;32m    758\u001b[0m \t, align \u001b[39m=\u001b[39;49m align)\n\u001b[0;32m    760\u001b[0m \u001b[39m#---------------------------------\u001b[39;00m\n\u001b[0;32m    761\u001b[0m \u001b[39m#custom normalization\u001b[39;00m\n\u001b[0;32m    763\u001b[0m img \u001b[39m=\u001b[39m functions\u001b[39m.\u001b[39mnormalize_input(img \u001b[39m=\u001b[39m img, normalization \u001b[39m=\u001b[39m normalization)\n",
      "File \u001b[1;32mc:\\Users\\ujjwa\\miniconda3\\envs\\vulture-env\\lib\\site-packages\\deepface\\commons\\functions.py:175\u001b[0m, in \u001b[0;36mpreprocess_face\u001b[1;34m(img, target_size, grayscale, enforce_detection, detector_backend, return_region, align)\u001b[0m\n\u001b[0;32m    172\u001b[0m \u001b[39mdef\u001b[39;00m \u001b[39mpreprocess_face\u001b[39m(img, target_size\u001b[39m=\u001b[39m(\u001b[39m224\u001b[39m, \u001b[39m224\u001b[39m), grayscale \u001b[39m=\u001b[39m \u001b[39mFalse\u001b[39;00m, enforce_detection \u001b[39m=\u001b[39m \u001b[39mTrue\u001b[39;00m, detector_backend \u001b[39m=\u001b[39m \u001b[39m'\u001b[39m\u001b[39mopencv\u001b[39m\u001b[39m'\u001b[39m, return_region \u001b[39m=\u001b[39m \u001b[39mFalse\u001b[39;00m, align \u001b[39m=\u001b[39m \u001b[39mTrue\u001b[39;00m):\n\u001b[0;32m    173\u001b[0m \n\u001b[0;32m    174\u001b[0m \t\u001b[39m#img might be path, base64 or numpy array. Convert it to numpy whatever it is.\u001b[39;00m\n\u001b[1;32m--> 175\u001b[0m \timg \u001b[39m=\u001b[39m load_image(img)\n\u001b[0;32m    176\u001b[0m \tbase_img \u001b[39m=\u001b[39m img\u001b[39m.\u001b[39mcopy()\n\u001b[0;32m    178\u001b[0m \timg, region \u001b[39m=\u001b[39m detect_face(img \u001b[39m=\u001b[39m img, detector_backend \u001b[39m=\u001b[39m detector_backend, grayscale \u001b[39m=\u001b[39m grayscale, enforce_detection \u001b[39m=\u001b[39m enforce_detection, align \u001b[39m=\u001b[39m align)\n",
      "File \u001b[1;32mc:\\Users\\ujjwa\\miniconda3\\envs\\vulture-env\\lib\\site-packages\\deepface\\commons\\functions.py:90\u001b[0m, in \u001b[0;36mload_image\u001b[1;34m(img)\u001b[0m\n\u001b[0;32m     88\u001b[0m \u001b[39melif\u001b[39;00m exact_image \u001b[39m!=\u001b[39m \u001b[39mTrue\u001b[39;00m: \u001b[39m#image path passed as input\u001b[39;00m\n\u001b[0;32m     89\u001b[0m \t\u001b[39mif\u001b[39;00m os\u001b[39m.\u001b[39mpath\u001b[39m.\u001b[39misfile(img) \u001b[39m!=\u001b[39m \u001b[39mTrue\u001b[39;00m:\n\u001b[1;32m---> 90\u001b[0m \t\t\u001b[39mraise\u001b[39;00m \u001b[39mValueError\u001b[39;00m(\u001b[39m\"\u001b[39m\u001b[39mConfirm that \u001b[39m\u001b[39m\"\u001b[39m,img,\u001b[39m\"\u001b[39m\u001b[39m exists\u001b[39m\u001b[39m\"\u001b[39m)\n\u001b[0;32m     92\u001b[0m \timg \u001b[39m=\u001b[39m cv2\u001b[39m.\u001b[39mimread(img)\n\u001b[0;32m     94\u001b[0m \u001b[39mreturn\u001b[39;00m img\n",
      "\u001b[1;31mValueError\u001b[0m: ('Confirm that ', 'face-rec-v1\\\\testing-dataset\\\\nishtha.jpeg', ' exists')"
     ]
    }
   ],
   "source": [
    "response = DeepFace.verify(img1_path=img_1_path, img2_path=img_2_path, model_name=model_name)\n",
    "print(response)"
   ]
  },
  {
   "cell_type": "code",
   "execution_count": null,
   "metadata": {},
   "outputs": [],
   "source": []
  }
 ],
 "metadata": {
  "kernelspec": {
   "display_name": "Python 3.10.6 ('vulture-env')",
   "language": "python",
   "name": "python3"
  },
  "language_info": {
   "codemirror_mode": {
    "name": "ipython",
    "version": 3
   },
   "file_extension": ".py",
   "mimetype": "text/x-python",
   "name": "python",
   "nbconvert_exporter": "python",
   "pygments_lexer": "ipython3",
   "version": "3.10.6"
  },
  "orig_nbformat": 4,
  "vscode": {
   "interpreter": {
    "hash": "f3da833c0c3ec4bd0a94d8eaa39b4479559bd36eb53fe78626ce3b4bdf6ac88b"
   }
  }
 },
 "nbformat": 4,
 "nbformat_minor": 2
}
